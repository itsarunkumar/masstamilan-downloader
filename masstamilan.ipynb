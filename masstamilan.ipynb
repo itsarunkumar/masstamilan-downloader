{
 "cells": [
  {
   "cell_type": "code",
   "execution_count": 1,
   "metadata": {},
   "outputs": [],
   "source": [
    "import requests\n",
    "from bs4 import BeautifulSoup\n",
    "import wget"
   ]
  },
  {
   "cell_type": "code",
   "execution_count": 31,
   "metadata": {},
   "outputs": [],
   "source": [
    "source_url = \"https://masstamilan.dev/music/\"\n",
    "author_name = 'anirudh-ravichander'\n",
    "url = source_url + author_name"
   ]
  },
  {
   "cell_type": "code",
   "execution_count": 38,
   "metadata": {},
   "outputs": [
    {
     "name": "stdout",
     "output_type": "stream",
     "text": [
      "200\n",
      "https://masstamilan.dev/music/anirudh-ravichander\n",
      "/3-moonu-songs-3\n",
      "/beast-songs\n",
      "/beast-bgm-original-background-score-songs\n",
      "/darbar-songs-2\n",
      "/darbar-bgm-ost-original-sound-tracks-songs\n",
      "/david-songs-2\n",
      "/dharala-prabhu-songs\n",
      "/doctor-songs\n",
      "/doctor-bgm-ost-original-background-score-songs\n",
      "/don-songs\n"
     ]
    }
   ],
   "source": [
    "#get the content of the page\n",
    "\n",
    "# def getContent(url):\n",
    "#     content = requests.get(url)\n",
    "#     print(content.status_code)\n",
    "#     print(content.url)\n",
    "#     content = content.content\n",
    "#     content = BeautifulSoup(content, \"html.parser\")\n",
    "#     f_content = content.select('.botlist')\n",
    "#     return f_content\n",
    "\n",
    "def getContent(url):\n",
    "    refined_content_lst = []\n",
    "    content = requests.get(url)\n",
    "    print(content.status_code)\n",
    "    print(content.url)\n",
    "    content = content.content\n",
    "    content = BeautifulSoup(content, \"html.parser\")\n",
    "    # f_content = content.select('.botlist')\n",
    "    refined_content = content.select('div.a-i > a')\n",
    "    for i in refined_content:\n",
    "        print(i['href'])\n",
    "        refined_content_lst.append(i['href'])\n",
    "    return refined_content_lst\n",
    "\n",
    "refined_list = getContent(url)"
   ]
  },
  {
   "cell_type": "code",
   "execution_count": 39,
   "metadata": {},
   "outputs": [],
   "source": [
    "url2 = \"https://masstamilan.dev\""
   ]
  },
  {
   "cell_type": "code",
   "execution_count": 40,
   "metadata": {},
   "outputs": [],
   "source": [
    "def getSongurl(url , refined_content_lst):\n",
    "    song_url = []\n",
    "    for i in refined_content_lst:\n",
    "        sm = requests.get(url+i)\n",
    "        song_url.append(sm.url)\n",
    "        sm = BeautifulSoup(sm.content, \"html.parser\")\n",
    "        \n",
    "    return song_url\n",
    "\n",
    "song_url = getSongurl(url2, refined_list )\n"
   ]
  },
  {
   "cell_type": "code",
   "execution_count": 42,
   "metadata": {},
   "outputs": [
    {
     "data": {
      "text/plain": [
       "10"
      ]
     },
     "execution_count": 42,
     "metadata": {},
     "output_type": "execute_result"
    }
   ],
   "source": [
    "len(song_url)"
   ]
  },
  {
   "cell_type": "code",
   "execution_count": 45,
   "metadata": {},
   "outputs": [],
   "source": [
    "def getDownloadUrl(op):\n",
    "    songlist = []\n",
    "    for i in op:\n",
    "        sm = requests.get(i)\n",
    "        sm = BeautifulSoup(sm.content, \"html.parser\")\n",
    "        for link in sm.find_all('a'):\n",
    "            if link.get('href').startswith('/downloader'):\n",
    "                if 'umami--click--dl320' in link.get('class'):\n",
    "                    songlist.append(link.get('href'))\n",
    "\n",
    "    return songlist\n",
    "\n",
    "songlist = getDownloadUrl(song_url)"
   ]
  },
  {
   "cell_type": "code",
   "execution_count": 46,
   "metadata": {},
   "outputs": [
    {
     "name": "stdout",
     "output_type": "stream",
     "text": [
      "https://cdn10.solamutha.xyz/download/lURrK4BtGXVU6d6SxbirOg/1677023070/t/2011/3moonu/320/A-life-Full-of-love.mp3\n",
      "https://cdn10.solamutha.xyz/download/lURrK4BtGXVU6d6SxbirOg/1677023070/t/2011/3moonu/320/Come-on-Girls.mp3\n",
      "https://cdn10.solamutha.xyz/download/lURrK4BtGXVU6d6SxbirOg/1677023070/t/2011/3moonu/320/Idhazhin-Oram.mp3\n"
     ]
    }
   ],
   "source": [
    "def downloadSong(songlist , url2):\n",
    "    songlist = songlist[:3]\n",
    "    for i in songlist:\n",
    "        d_url = url2 + i\n",
    "        # print(d_url)\n",
    "        fd_url = requests.get(d_url)\n",
    "        print(fd_url.url)\n",
    "        wget.download(fd_url.url)\n",
    "\n",
    "downloadSong(songlist , url2)"
   ]
  }
 ],
 "metadata": {
  "kernelspec": {
   "display_name": "Python 3",
   "language": "python",
   "name": "python3"
  },
  "language_info": {
   "codemirror_mode": {
    "name": "ipython",
    "version": 3
   },
   "file_extension": ".py",
   "mimetype": "text/x-python",
   "name": "python",
   "nbconvert_exporter": "python",
   "pygments_lexer": "ipython3",
   "version": "3.11.1"
  },
  "orig_nbformat": 4,
  "vscode": {
   "interpreter": {
    "hash": "3afd4b39a238fdf01cd9401e7177a817e259857158bc913169b524f7e9bb1c00"
   }
  }
 },
 "nbformat": 4,
 "nbformat_minor": 2
}
